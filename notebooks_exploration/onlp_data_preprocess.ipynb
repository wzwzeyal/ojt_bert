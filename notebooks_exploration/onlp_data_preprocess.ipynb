{
  "cells": [
    {
      "cell_type": "code",
      "execution_count": 2,
      "metadata": {
        "id": "YMDS61u-tIJ9"
      },
      "outputs": [],
      "source": [
        "# clone git"
      ]
    },
    {
      "cell_type": "code",
      "execution_count": 3,
      "metadata": {},
      "outputs": [],
      "source": [
        "!rm -rf ../data/external\n",
        "!rm -rf ../nlp_utils_repo"
      ]
    },
    {
      "cell_type": "code",
      "execution_count": 4,
      "metadata": {
        "colab": {
          "base_uri": "https://localhost:8080/"
        },
        "id": "nvp0OlvTJ7vs",
        "outputId": "50b73b5c-2dec-4093-80f9-12e14946b290"
      },
      "outputs": [
        {
          "name": "stdout",
          "output_type": "stream",
          "text": [
            "Cloning into '../data/external/OnlpLab'...\n",
            "remote: Enumerating objects: 67, done.\u001b[K\n",
            "remote: Counting objects: 100% (67/67), done.\u001b[K\n",
            "remote: Compressing objects: 100% (47/47), done.\u001b[K\n",
            "remote: Total 67 (delta 35), reused 27 (delta 15), pack-reused 0\u001b[K\n",
            "Unpacking objects: 100% (67/67), 1.65 MiB | 2.35 MiB/s, done.\n",
            "fatal: destination path './nlp_utils_repo' already exists and is not an empty directory.\n"
          ]
        }
      ],
      "source": [
        "!git clone https://github.com/OnlpLab/Hebrew-Sentiment-Data.git ../data/external/OnlpLab\n",
        "!git clone https://github.com/wzwzeyal/nlp_utils_repo.git ./nlp_utils_repo"
      ]
    },
    {
      "cell_type": "code",
      "execution_count": 59,
      "metadata": {
        "id": "oCN8eGJuvF4u"
      },
      "outputs": [
        {
          "name": "stderr",
          "output_type": "stream",
          "text": [
            "[nltk_data] Downloading package punkt to /home/eyalshw/nltk_data...\n",
            "[nltk_data]   Package punkt is already up-to-date!\n"
          ]
        },
        {
          "data": {
            "text/plain": [
              "True"
            ]
          },
          "execution_count": 59,
          "metadata": {},
          "output_type": "execute_result"
        }
      ],
      "source": [
        "import pandas as pd\n",
        "import matplotlib.pyplot as plt\n",
        "import seaborn as sns\n",
        "from nlp_utils_repo.nlp_utils import clean_data, remove_words\n",
        "\n",
        "from nltk.probability import FreqDist\n",
        "from nltk import word_tokenize\n",
        "import nltk\n",
        "nltk.download('punkt')\n"
      ]
    },
    {
      "cell_type": "code",
      "execution_count": 6,
      "metadata": {
        "id": "eLPO-ISdy_jK"
      },
      "outputs": [],
      "source": [
        "ROOT_PATH = '../data/external/OnlpLab/Sentiment_Data'\n",
        "FIG_SIZE = (20, 15)\n"
      ]
    },
    {
      "cell_type": "code",
      "execution_count": 7,
      "metadata": {
        "id": "HpCQpi8syibX"
      },
      "outputs": [],
      "source": [
        "def get_onlp_data(token_or_morph, data_type):\n",
        "  return pd.read_csv(f'{ROOT_PATH}/{token_or_morph}/{data_type}.tsv', sep='\\t')"
      ]
    },
    {
      "cell_type": "code",
      "execution_count": 8,
      "metadata": {
        "id": "ierJjixhuOfk"
      },
      "outputs": [],
      "source": [
        "train_token_df = get_onlp_data('token', 'train')\n",
        "val_token_df = get_onlp_data('token', 'dev')\n",
        "\n",
        "train_morph_df = get_onlp_data('morph', 'train')\n",
        "val_morph_df = get_onlp_data('morph', 'dev')"
      ]
    },
    {
      "cell_type": "code",
      "execution_count": 9,
      "metadata": {},
      "outputs": [],
      "source": [
        "datasets = [\n",
        "  {\"name\": \"train_token_df\", \"df\": train_token_df},\n",
        "  {\"name\": \"val_token_df\", \"df\": val_token_df},\n",
        "  {\"name\": \"train_morph_df\", \"df\": train_morph_df},\n",
        "  {\"name\": \"val_morph_df\", \"df\": val_morph_df},\n",
        "]"
      ]
    },
    {
      "cell_type": "code",
      "execution_count": 10,
      "metadata": {
        "id": "tmV0q5uCuz4Q"
      },
      "outputs": [],
      "source": [
        "codes = {0 : 'pos', 1: 'neg', 2: 'nut'}\n",
        "palette = {'pos': 'green', 'neg': 'red', 'nut': 'gray'}\n"
      ]
    },
    {
      "cell_type": "code",
      "execution_count": 11,
      "metadata": {
        "id": "MQhggcUZ0eHg"
      },
      "outputs": [],
      "source": [
        "for dataset in datasets:\n",
        "  df = dataset['df']\n",
        "  clean_data(df, 'comment', 'comment_clean')\n",
        "  df['sentiment'] = df.label.map(codes)\n",
        "  df['comment_clean_len'] = df.comment_clean.str.len()"
      ]
    },
    {
      "cell_type": "code",
      "execution_count": 12,
      "metadata": {
        "colab": {
          "base_uri": "https://localhost:8080/",
          "height": 206
        },
        "id": "mEdX5gxk0sb3",
        "outputId": "c5046084-fd69-4668-e436-8e5a85fe17d3"
      },
      "outputs": [
        {
          "data": {
            "text/html": [
              "<div>\n",
              "<style scoped>\n",
              "    .dataframe tbody tr th:only-of-type {\n",
              "        vertical-align: middle;\n",
              "    }\n",
              "\n",
              "    .dataframe tbody tr th {\n",
              "        vertical-align: top;\n",
              "    }\n",
              "\n",
              "    .dataframe thead th {\n",
              "        text-align: right;\n",
              "    }\n",
              "</style>\n",
              "<table border=\"1\" class=\"dataframe\">\n",
              "  <thead>\n",
              "    <tr style=\"text-align: right;\">\n",
              "      <th></th>\n",
              "      <th>comment</th>\n",
              "      <th>label</th>\n",
              "      <th>comment_clean</th>\n",
              "      <th>sentiment</th>\n",
              "      <th>comment_clean_len</th>\n",
              "    </tr>\n",
              "  </thead>\n",
              "  <tbody>\n",
              "    <tr>\n",
              "      <th>3800</th>\n",
              "      <td>רובי אתה אח</td>\n",
              "      <td>0</td>\n",
              "      <td>רובי אתה אח</td>\n",
              "      <td>pos</td>\n",
              "      <td>11</td>\n",
              "    </tr>\n",
              "    <tr>\n",
              "      <th>4516</th>\n",
              "      <td>שמע קצת צר לי לבאס אבל היום ה29 ...</td>\n",
              "      <td>1</td>\n",
              "      <td>שמע קצת צר לי לבאס אבל היום</td>\n",
              "      <td>neg</td>\n",
              "      <td>27</td>\n",
              "    </tr>\n",
              "    <tr>\n",
              "      <th>335</th>\n",
              "      <td>רובי הנשיא עזוב אותך דיבורים .. היום מה עושים ...</td>\n",
              "      <td>1</td>\n",
              "      <td>רובי הנשיא עזוב אותך דיבורים היום מה עושים הבר...</td>\n",
              "      <td>neg</td>\n",
              "      <td>65</td>\n",
              "    </tr>\n",
              "    <tr>\n",
              "      <th>1789</th>\n",
              "      <td>כל הכבוד לגעת ריבלין , רעייתו של ח'כ ריבלין א...</td>\n",
              "      <td>0</td>\n",
              "      <td>כל הכבוד לגעת ריבלין רעייתו של ח'כ ריבלין אשר ...</td>\n",
              "      <td>pos</td>\n",
              "      <td>428</td>\n",
              "    </tr>\n",
              "    <tr>\n",
              "      <th>3569</th>\n",
              "      <td>היא פשוט בוגדת בעצמה ( הכלה ) במשפחה בדם שלה ו...</td>\n",
              "      <td>1</td>\n",
              "      <td>היא פשוט בוגדת בעצמה הכלה במשפחה בדם שלה ובעיק...</td>\n",
              "      <td>neg</td>\n",
              "      <td>109</td>\n",
              "    </tr>\n",
              "  </tbody>\n",
              "</table>\n",
              "</div>"
            ],
            "text/plain": [
              "                                                comment  label  \\\n",
              "3800                                        רובי אתה אח      0   \n",
              "4516                שמע קצת צר לי לבאס אבל היום ה29 ...      1   \n",
              "335   רובי הנשיא עזוב אותך דיבורים .. היום מה עושים ...      1   \n",
              "1789   כל הכבוד לגעת ריבלין , רעייתו של ח'כ ריבלין א...      0   \n",
              "3569  היא פשוט בוגדת בעצמה ( הכלה ) במשפחה בדם שלה ו...      1   \n",
              "\n",
              "                                          comment_clean sentiment  \\\n",
              "3800                                        רובי אתה אח       pos   \n",
              "4516                        שמע קצת צר לי לבאס אבל היום       neg   \n",
              "335   רובי הנשיא עזוב אותך דיבורים היום מה עושים הבר...       neg   \n",
              "1789  כל הכבוד לגעת ריבלין רעייתו של ח'כ ריבלין אשר ...       pos   \n",
              "3569  היא פשוט בוגדת בעצמה הכלה במשפחה בדם שלה ובעיק...       neg   \n",
              "\n",
              "      comment_clean_len  \n",
              "3800                 11  \n",
              "4516                 27  \n",
              "335                  65  \n",
              "1789                428  \n",
              "3569                109  "
            ]
          },
          "execution_count": 12,
          "metadata": {},
          "output_type": "execute_result"
        }
      ],
      "source": [
        "train_token_df.sample(5)"
      ]
    },
    {
      "cell_type": "code",
      "execution_count": 13,
      "metadata": {
        "colab": {
          "base_uri": "https://localhost:8080/",
          "height": 206
        },
        "id": "RQKEdlu948Xm",
        "outputId": "90aa2854-a22f-4690-add2-dad3785c169f"
      },
      "outputs": [
        {
          "data": {
            "text/html": [
              "<div>\n",
              "<style scoped>\n",
              "    .dataframe tbody tr th:only-of-type {\n",
              "        vertical-align: middle;\n",
              "    }\n",
              "\n",
              "    .dataframe tbody tr th {\n",
              "        vertical-align: top;\n",
              "    }\n",
              "\n",
              "    .dataframe thead th {\n",
              "        text-align: right;\n",
              "    }\n",
              "</style>\n",
              "<table border=\"1\" class=\"dataframe\">\n",
              "  <thead>\n",
              "    <tr style=\"text-align: right;\">\n",
              "      <th></th>\n",
              "      <th>comment</th>\n",
              "      <th>label</th>\n",
              "      <th>comment_clean</th>\n",
              "      <th>sentiment</th>\n",
              "      <th>comment_clean_len</th>\n",
              "    </tr>\n",
              "  </thead>\n",
              "  <tbody>\n",
              "    <tr>\n",
              "      <th>358</th>\n",
              "      <td>יפה . הנשיא קורה מקור ראשון ...</td>\n",
              "      <td>0</td>\n",
              "      <td>יפה הנשיא קורה מקור ראשון</td>\n",
              "      <td>pos</td>\n",
              "      <td>25</td>\n",
              "    </tr>\n",
              "    <tr>\n",
              "      <th>462</th>\n",
              "      <td>צדקתי ..... וזה טוב לישראל ולעם .</td>\n",
              "      <td>0</td>\n",
              "      <td>צדקתי וזה טוב לישראל ולעם</td>\n",
              "      <td>pos</td>\n",
              "      <td>25</td>\n",
              "    </tr>\n",
              "    <tr>\n",
              "      <th>332</th>\n",
              "      <td>שבת שלום לנשיא</td>\n",
              "      <td>0</td>\n",
              "      <td>שבת שלום לנשיא</td>\n",
              "      <td>pos</td>\n",
              "      <td>14</td>\n",
              "    </tr>\n",
              "    <tr>\n",
              "      <th>71</th>\n",
              "      <td>איזה כיף להגיד שבת טובה לנשיאנו רובי ריבלין הי...</td>\n",
              "      <td>0</td>\n",
              "      <td>איזה כיף להגיד שבת טובה לנשיאנו רובי ריבלין הי...</td>\n",
              "      <td>pos</td>\n",
              "      <td>87</td>\n",
              "    </tr>\n",
              "    <tr>\n",
              "      <th>828</th>\n",
              "      <td>אם אתה כל כך מאמין בזה אזה תחוקקו חוק בכנסת שכ...</td>\n",
              "      <td>0</td>\n",
              "      <td>אם אתה כל כך מאמין בזה אזה תחוקקו חוק בכנסת שכ...</td>\n",
              "      <td>pos</td>\n",
              "      <td>193</td>\n",
              "    </tr>\n",
              "  </tbody>\n",
              "</table>\n",
              "</div>"
            ],
            "text/plain": [
              "                                               comment  label  \\\n",
              "358                    יפה . הנשיא קורה מקור ראשון ...      0   \n",
              "462                  צדקתי ..... וזה טוב לישראל ולעם .      0   \n",
              "332                                     שבת שלום לנשיא      0   \n",
              "71   איזה כיף להגיד שבת טובה לנשיאנו רובי ריבלין הי...      0   \n",
              "828  אם אתה כל כך מאמין בזה אזה תחוקקו חוק בכנסת שכ...      0   \n",
              "\n",
              "                                         comment_clean sentiment  \\\n",
              "358                          יפה הנשיא קורה מקור ראשון       pos   \n",
              "462                          צדקתי וזה טוב לישראל ולעם       pos   \n",
              "332                                     שבת שלום לנשיא       pos   \n",
              "71   איזה כיף להגיד שבת טובה לנשיאנו רובי ריבלין הי...       pos   \n",
              "828  אם אתה כל כך מאמין בזה אזה תחוקקו חוק בכנסת שכ...       pos   \n",
              "\n",
              "     comment_clean_len  \n",
              "358                 25  \n",
              "462                 25  \n",
              "332                 14  \n",
              "71                  87  \n",
              "828                193  "
            ]
          },
          "execution_count": 13,
          "metadata": {},
          "output_type": "execute_result"
        }
      ],
      "source": [
        "val_token_df.sample(5)"
      ]
    },
    {
      "cell_type": "code",
      "execution_count": 14,
      "metadata": {
        "colab": {
          "base_uri": "https://localhost:8080/",
          "height": 206
        },
        "id": "JZMpXJXN1pKP",
        "outputId": "8d09e467-6407-46cc-e4fb-e5304f005825"
      },
      "outputs": [
        {
          "data": {
            "text/html": [
              "<div>\n",
              "<style scoped>\n",
              "    .dataframe tbody tr th:only-of-type {\n",
              "        vertical-align: middle;\n",
              "    }\n",
              "\n",
              "    .dataframe tbody tr th {\n",
              "        vertical-align: top;\n",
              "    }\n",
              "\n",
              "    .dataframe thead th {\n",
              "        text-align: right;\n",
              "    }\n",
              "</style>\n",
              "<table border=\"1\" class=\"dataframe\">\n",
              "  <thead>\n",
              "    <tr style=\"text-align: right;\">\n",
              "      <th></th>\n",
              "      <th>comment</th>\n",
              "      <th>label</th>\n",
              "      <th>comment_clean</th>\n",
              "      <th>sentiment</th>\n",
              "      <th>comment_clean_len</th>\n",
              "    </tr>\n",
              "  </thead>\n",
              "  <tbody>\n",
              "    <tr>\n",
              "      <th>178</th>\n",
              "      <td>מי נשיא ימני של ביתר ירושלים אכפת ל נשיא שמאלנ...</td>\n",
              "      <td>1</td>\n",
              "      <td>מי נשיא ימני של ביתר ירושלים אכפת נשיא שמאלני ...</td>\n",
              "      <td>neg</td>\n",
              "      <td>60</td>\n",
              "    </tr>\n",
              "    <tr>\n",
              "      <th>1051</th>\n",
              "      <td>מעניין ש כל פעם ש משהו ימני נאמר מיד זועקים ה...</td>\n",
              "      <td>1</td>\n",
              "      <td>מעניין כל פעם משהו ימני נאמר מיד זועקים הסתה א...</td>\n",
              "      <td>neg</td>\n",
              "      <td>1410</td>\n",
              "    </tr>\n",
              "    <tr>\n",
              "      <th>667</th>\n",
              "      <td>יהי זכרו ב ה רוך .</td>\n",
              "      <td>0</td>\n",
              "      <td>יהי זכרו רוך</td>\n",
              "      <td>pos</td>\n",
              "      <td>12</td>\n",
              "    </tr>\n",
              "    <tr>\n",
              "      <th>5471</th>\n",
              "      <td>ה כל דבורים ב ה שטח אין כלום</td>\n",
              "      <td>0</td>\n",
              "      <td>כל דבורים שטח אין כלום</td>\n",
              "      <td>pos</td>\n",
              "      <td>22</td>\n",
              "    </tr>\n",
              "    <tr>\n",
              "      <th>4120</th>\n",
              "      <td>אני מציע לתת ל כול ישוב ביהודה ו שומרון להקים ...</td>\n",
              "      <td>1</td>\n",
              "      <td>אני מציע לתת כול ישוב ביהודה שומרון להקים שלוש...</td>\n",
              "      <td>neg</td>\n",
              "      <td>135</td>\n",
              "    </tr>\n",
              "  </tbody>\n",
              "</table>\n",
              "</div>"
            ],
            "text/plain": [
              "                                                comment  label  \\\n",
              "178   מי נשיא ימני של ביתר ירושלים אכפת ל נשיא שמאלנ...      1   \n",
              "1051   מעניין ש כל פעם ש משהו ימני נאמר מיד זועקים ה...      1   \n",
              "667                                  יהי זכרו ב ה רוך .      0   \n",
              "5471                       ה כל דבורים ב ה שטח אין כלום      0   \n",
              "4120  אני מציע לתת ל כול ישוב ביהודה ו שומרון להקים ...      1   \n",
              "\n",
              "                                          comment_clean sentiment  \\\n",
              "178   מי נשיא ימני של ביתר ירושלים אכפת נשיא שמאלני ...       neg   \n",
              "1051  מעניין כל פעם משהו ימני נאמר מיד זועקים הסתה א...       neg   \n",
              "667                                        יהי זכרו רוך       pos   \n",
              "5471                             כל דבורים שטח אין כלום       pos   \n",
              "4120  אני מציע לתת כול ישוב ביהודה שומרון להקים שלוש...       neg   \n",
              "\n",
              "      comment_clean_len  \n",
              "178                  60  \n",
              "1051               1410  \n",
              "667                  12  \n",
              "5471                 22  \n",
              "4120                135  "
            ]
          },
          "execution_count": 14,
          "metadata": {},
          "output_type": "execute_result"
        }
      ],
      "source": [
        "train_morph_df.sample(5)"
      ]
    },
    {
      "cell_type": "code",
      "execution_count": 15,
      "metadata": {
        "colab": {
          "base_uri": "https://localhost:8080/",
          "height": 206
        },
        "id": "y0Aic7TT1s-P",
        "outputId": "b05ed925-a970-47aa-c6bc-aacbe9bc3c5f"
      },
      "outputs": [
        {
          "data": {
            "text/html": [
              "<div>\n",
              "<style scoped>\n",
              "    .dataframe tbody tr th:only-of-type {\n",
              "        vertical-align: middle;\n",
              "    }\n",
              "\n",
              "    .dataframe tbody tr th {\n",
              "        vertical-align: top;\n",
              "    }\n",
              "\n",
              "    .dataframe thead th {\n",
              "        text-align: right;\n",
              "    }\n",
              "</style>\n",
              "<table border=\"1\" class=\"dataframe\">\n",
              "  <thead>\n",
              "    <tr style=\"text-align: right;\">\n",
              "      <th></th>\n",
              "      <th>comment</th>\n",
              "      <th>label</th>\n",
              "      <th>comment_clean</th>\n",
              "      <th>sentiment</th>\n",
              "      <th>comment_clean_len</th>\n",
              "    </tr>\n",
              "  </thead>\n",
              "  <tbody>\n",
              "    <tr>\n",
              "      <th>122</th>\n",
              "      <td>קח מגרסה גרוס את כולם זרוק ל מזבלה</td>\n",
              "      <td>1</td>\n",
              "      <td>קח מגרסה גרוס את כולם זרוק מזבלה</td>\n",
              "      <td>neg</td>\n",
              "      <td>32</td>\n",
              "    </tr>\n",
              "    <tr>\n",
              "      <th>46</th>\n",
              "      <td>יא חתיכת מזדיין ב תחת נשיא מדינת ישראל מעניין ...</td>\n",
              "      <td>1</td>\n",
              "      <td>יא חתיכת מזדיין תחת נשיא מדינת ישראל מעניין אם...</td>\n",
              "      <td>neg</td>\n",
              "      <td>146</td>\n",
              "    </tr>\n",
              "    <tr>\n",
              "      <th>595</th>\n",
              "      <td>מר ריבלין - אתה מעודד נישואי תערובת ? לשם כך ...</td>\n",
              "      <td>1</td>\n",
              "      <td>מר ריבלין אתה מעודד נישואי תערובת לשם כך הקמנו...</td>\n",
              "      <td>neg</td>\n",
              "      <td>233</td>\n",
              "    </tr>\n",
              "    <tr>\n",
              "      <th>155</th>\n",
              "      <td>יישר כוח על תגובתך .</td>\n",
              "      <td>0</td>\n",
              "      <td>יישר כוח על תגובתך</td>\n",
              "      <td>pos</td>\n",
              "      <td>18</td>\n",
              "    </tr>\n",
              "    <tr>\n",
              "      <th>460</th>\n",
              "      <td>ב ואו ל שולחנות עגולים ב רחבי ה ארץ , בואו ל ...</td>\n",
              "      <td>0</td>\n",
              "      <td>ואו שולחנות עגולים רחבי ארץ בואו מעגלי שיח דבר...</td>\n",
              "      <td>pos</td>\n",
              "      <td>212</td>\n",
              "    </tr>\n",
              "  </tbody>\n",
              "</table>\n",
              "</div>"
            ],
            "text/plain": [
              "                                               comment  label  \\\n",
              "122                 קח מגרסה גרוס את כולם זרוק ל מזבלה      1   \n",
              "46   יא חתיכת מזדיין ב תחת נשיא מדינת ישראל מעניין ...      1   \n",
              "595   מר ריבלין - אתה מעודד נישואי תערובת ? לשם כך ...      1   \n",
              "155                               יישר כוח על תגובתך .      0   \n",
              "460   ב ואו ל שולחנות עגולים ב רחבי ה ארץ , בואו ל ...      0   \n",
              "\n",
              "                                         comment_clean sentiment  \\\n",
              "122                   קח מגרסה גרוס את כולם זרוק מזבלה       neg   \n",
              "46   יא חתיכת מזדיין תחת נשיא מדינת ישראל מעניין אם...       neg   \n",
              "595  מר ריבלין אתה מעודד נישואי תערובת לשם כך הקמנו...       neg   \n",
              "155                                 יישר כוח על תגובתך       pos   \n",
              "460  ואו שולחנות עגולים רחבי ארץ בואו מעגלי שיח דבר...       pos   \n",
              "\n",
              "     comment_clean_len  \n",
              "122                 32  \n",
              "46                 146  \n",
              "595                233  \n",
              "155                 18  \n",
              "460                212  "
            ]
          },
          "execution_count": 15,
          "metadata": {},
          "output_type": "execute_result"
        }
      ],
      "source": [
        "val_morph_df.sample(5)"
      ]
    },
    {
      "cell_type": "code",
      "execution_count": 16,
      "metadata": {},
      "outputs": [
        {
          "data": {
            "text/html": [
              "<div>\n",
              "<style scoped>\n",
              "    .dataframe tbody tr th:only-of-type {\n",
              "        vertical-align: middle;\n",
              "    }\n",
              "\n",
              "    .dataframe tbody tr th {\n",
              "        vertical-align: top;\n",
              "    }\n",
              "\n",
              "    .dataframe thead th {\n",
              "        text-align: right;\n",
              "    }\n",
              "</style>\n",
              "<table border=\"1\" class=\"dataframe\">\n",
              "  <thead>\n",
              "    <tr style=\"text-align: right;\">\n",
              "      <th></th>\n",
              "      <th>comment</th>\n",
              "      <th>label</th>\n",
              "      <th>comment_clean</th>\n",
              "      <th>sentiment</th>\n",
              "      <th>comment_clean_len</th>\n",
              "    </tr>\n",
              "  </thead>\n",
              "  <tbody>\n",
              "    <tr>\n",
              "      <th>0</th>\n",
              "      <td>ממש כואב ..... אני בוכה עם המשפחה שלא תדעו עוד...</td>\n",
              "      <td>0</td>\n",
              "      <td>ממש כואב אני בוכה עם המשפחה שלא תדעו עוד צער</td>\n",
              "      <td>pos</td>\n",
              "      <td>44</td>\n",
              "    </tr>\n",
              "    <tr>\n",
              "      <th>1</th>\n",
              "      <td>כל הכבוד והמון בהצלחה</td>\n",
              "      <td>0</td>\n",
              "      <td>כל הכבוד והמון בהצלחה</td>\n",
              "      <td>pos</td>\n",
              "      <td>21</td>\n",
              "    </tr>\n",
              "    <tr>\n",
              "      <th>2</th>\n",
              "      <td>תל חי , רובי . בכל העצב הזה היית קרן אור של ת...</td>\n",
              "      <td>0</td>\n",
              "      <td>תל חי רובי בכל העצב הזה היית קרן אור של תקוה א...</td>\n",
              "      <td>pos</td>\n",
              "      <td>63</td>\n",
              "    </tr>\n",
              "    <tr>\n",
              "      <th>3</th>\n",
              "      <td>נקי כפיים ובר לבב בהצלחה לך ולנו .</td>\n",
              "      <td>0</td>\n",
              "      <td>נקי כפיים ובר לבב בהצלחה לך ולנו</td>\n",
              "      <td>pos</td>\n",
              "      <td>32</td>\n",
              "    </tr>\n",
              "    <tr>\n",
              "      <th>4</th>\n",
              "      <td>רובי חג שמח והצלחה בבחירות לנשיאות .</td>\n",
              "      <td>0</td>\n",
              "      <td>רובי חג שמח והצלחה בבחירות לנשיאות</td>\n",
              "      <td>pos</td>\n",
              "      <td>34</td>\n",
              "    </tr>\n",
              "    <tr>\n",
              "      <th>...</th>\n",
              "      <td>...</td>\n",
              "      <td>...</td>\n",
              "      <td>...</td>\n",
              "      <td>...</td>\n",
              "      <td>...</td>\n",
              "    </tr>\n",
              "    <tr>\n",
              "      <th>5921</th>\n",
              "      <td>כל הכבוד לנשיא שלנו !</td>\n",
              "      <td>0</td>\n",
              "      <td>כל הכבוד לנשיא שלנו</td>\n",
              "      <td>pos</td>\n",
              "      <td>19</td>\n",
              "    </tr>\n",
              "    <tr>\n",
              "      <th>5922</th>\n",
              "      <td>לשבעת המגייבים הקודמים : דמוקרטיה אין פירושה ...</td>\n",
              "      <td>1</td>\n",
              "      <td>לשבעת המגייבים הקודמים דמוקרטיה אין פירושה למח...</td>\n",
              "      <td>neg</td>\n",
              "      <td>386</td>\n",
              "    </tr>\n",
              "    <tr>\n",
              "      <th>5923</th>\n",
              "      <td>ישששששששששששששששש בשעה טובה איש מדהים איש אמת ...</td>\n",
              "      <td>0</td>\n",
              "      <td>ישש בשעה טובה איש מדהים איש אמת עם ישראל בשעתו...</td>\n",
              "      <td>pos</td>\n",
              "      <td>53</td>\n",
              "    </tr>\n",
              "    <tr>\n",
              "      <th>5924</th>\n",
              "      <td>יחי יחי נשיא מדינת ישראל רובי רבלין.אנא מימך א...</td>\n",
              "      <td>0</td>\n",
              "      <td>יחי יחי נשיא מדינת ישראל רובי רבליןאנא מימך אל...</td>\n",
              "      <td>pos</td>\n",
              "      <td>208</td>\n",
              "    </tr>\n",
              "    <tr>\n",
              "      <th>5925</th>\n",
              "      <td>צודקת סליחה התכוונתי בשם היהודים השפווים שחשוב...</td>\n",
              "      <td>1</td>\n",
              "      <td>צודקת סליחה התכוונתי בשם היהודים השפווים שחשוב...</td>\n",
              "      <td>neg</td>\n",
              "      <td>234</td>\n",
              "    </tr>\n",
              "  </tbody>\n",
              "</table>\n",
              "<p>5926 rows × 5 columns</p>\n",
              "</div>"
            ],
            "text/plain": [
              "                                                comment  label  \\\n",
              "0     ממש כואב ..... אני בוכה עם המשפחה שלא תדעו עוד...      0   \n",
              "1                                 כל הכבוד והמון בהצלחה      0   \n",
              "2      תל חי , רובי . בכל העצב הזה היית קרן אור של ת...      0   \n",
              "3                    נקי כפיים ובר לבב בהצלחה לך ולנו .      0   \n",
              "4                  רובי חג שמח והצלחה בבחירות לנשיאות .      0   \n",
              "...                                                 ...    ...   \n",
              "5921                              כל הכבוד לנשיא שלנו !      0   \n",
              "5922   לשבעת המגייבים הקודמים : דמוקרטיה אין פירושה ...      1   \n",
              "5923  ישששששששששששששששש בשעה טובה איש מדהים איש אמת ...      0   \n",
              "5924  יחי יחי נשיא מדינת ישראל רובי רבלין.אנא מימך א...      0   \n",
              "5925  צודקת סליחה התכוונתי בשם היהודים השפווים שחשוב...      1   \n",
              "\n",
              "                                          comment_clean sentiment  \\\n",
              "0          ממש כואב אני בוכה עם המשפחה שלא תדעו עוד צער       pos   \n",
              "1                                 כל הכבוד והמון בהצלחה       pos   \n",
              "2     תל חי רובי בכל העצב הזה היית קרן אור של תקוה א...       pos   \n",
              "3                      נקי כפיים ובר לבב בהצלחה לך ולנו       pos   \n",
              "4                    רובי חג שמח והצלחה בבחירות לנשיאות       pos   \n",
              "...                                                 ...       ...   \n",
              "5921                                כל הכבוד לנשיא שלנו       pos   \n",
              "5922  לשבעת המגייבים הקודמים דמוקרטיה אין פירושה למח...       neg   \n",
              "5923  ישש בשעה טובה איש מדהים איש אמת עם ישראל בשעתו...       pos   \n",
              "5924  יחי יחי נשיא מדינת ישראל רובי רבליןאנא מימך אל...       pos   \n",
              "5925  צודקת סליחה התכוונתי בשם היהודים השפווים שחשוב...       neg   \n",
              "\n",
              "      comment_clean_len  \n",
              "0                    44  \n",
              "1                    21  \n",
              "2                    63  \n",
              "3                    32  \n",
              "4                    34  \n",
              "...                 ...  \n",
              "5921                 19  \n",
              "5922                386  \n",
              "5923                 53  \n",
              "5924                208  \n",
              "5925                234  \n",
              "\n",
              "[5926 rows x 5 columns]"
            ]
          },
          "execution_count": 16,
          "metadata": {},
          "output_type": "execute_result"
        }
      ],
      "source": [
        "datasets[0]['df']"
      ]
    },
    {
      "cell_type": "code",
      "execution_count": 17,
      "metadata": {
        "colab": {
          "base_uri": "https://localhost:8080/",
          "height": 894
        },
        "id": "Lh3kwA1P9RNI",
        "outputId": "4bbd1969-0878-41f1-e10f-606013096422"
      },
      "outputs": [
        {
          "data": {
            "image/png": "[encoded data removed]",
            "text/plain": [
              "<Figure size 1080x1080 with 4 Axes>"
            ]
          },
          "metadata": {
            "needs_background": "light"
          },
          "output_type": "display_data"
        }
      ],
      "source": [
        "fig, axes = plt.subplots(nrows=2, ncols=2, figsize=(15,15))#, gridspec_kw={'hspace': 1.2, 'wspace': 1.5})\n",
        "\n",
        "for ax, dataset in zip(axes.flatten(), datasets):\n",
        "  sns.histplot(dataset['df'], x='comment_clean_len', hue='sentiment', palette=palette, ax=ax, kde=True)\n",
        "  ax.set_title(dataset['name'])\n",
        "\n",
        "plt.show()\n",
        "\n",
        "\n",
        "#for ax in axs:\n"
      ]
    },
    {
      "cell_type": "code",
      "execution_count": 18,
      "metadata": {
        "id": "n-2blZFlLWm9"
      },
      "outputs": [],
      "source": [
        "MAX_LEN=128\n",
        "\n",
        "# for dataset in datasets:\n",
        "#   df = dataset['df']\n",
        "#   df = df[df.comment_clean_len < MAX_LEN]\n",
        "\n",
        "for idx in range(len(datasets)):\n",
        "  df = datasets[idx]['df']\n",
        "  datasets[idx]['df'] = df[df.comment_clean_len < MAX_LEN]#  & df.comment_clean_len > 0]\n",
        "\n",
        "for idx in range(len(datasets)):\n",
        "  df = datasets[idx]['df']\n",
        "  datasets[idx]['df'] = df[df.comment_clean_len > 0]#  & df.comment_clean_len > 0]"
      ]
    },
    {
      "cell_type": "code",
      "execution_count": 19,
      "metadata": {
        "colab": {
          "base_uri": "https://localhost:8080/",
          "height": 894
        },
        "id": "K7VH_Ke0EzIK",
        "outputId": "f1df686f-8637-40a8-a3ce-f8be0eb5a19e"
      },
      "outputs": [
        {
          "data": {
            "image/png": "[encoded data removed]",
            "text/plain": [
              "<Figure size 1440x1080 with 4 Axes>"
            ]
          },
          "metadata": {
            "needs_background": "light"
          },
          "output_type": "display_data"
        }
      ],
      "source": [
        "fig, axes = plt.subplots(nrows=2, ncols=2, figsize=FIG_SIZE)\n",
        "\n",
        "for ax, dataset in zip(axes.flatten(), datasets):\n",
        "  df = dataset['df']\n",
        "  sns.histplot(df, x='comment_clean_len', hue='sentiment', palette=palette, ax=ax, kde=True)\n",
        "  ax.set_title(dataset['name'])\n",
        "\n",
        "plt.show()"
      ]
    },
    {
      "cell_type": "code",
      "execution_count": 20,
      "metadata": {
        "id": "RkjKBhxdO3mS"
      },
      "outputs": [
        {
          "name": "stdout",
          "output_type": "stream",
          "text": [
            "mkdir: cannot create directory ‘SENTIMENT_DATA’: File exists\n",
            "             label  comment_clean_len\n",
            "count  4616.000000        4616.000000\n",
            "mean      0.273830          47.957322\n",
            "std       0.498726          31.104913\n",
            "min       0.000000           2.000000\n",
            "25%       0.000000          23.000000\n",
            "50%       0.000000          40.000000\n",
            "75%       0.000000          68.000000\n",
            "max       2.000000         127.000000\n",
            "            label  comment_clean_len\n",
            "count  681.000000         681.000000\n",
            "mean     0.258443          47.888399\n",
            "std      0.506595          31.145378\n",
            "min      0.000000           3.000000\n",
            "25%      0.000000          22.000000\n",
            "50%      0.000000          41.000000\n",
            "75%      0.000000          69.000000\n",
            "max      2.000000         127.000000\n",
            "            label  comment_clean_len\n",
            "count  4683.00000        4683.000000\n",
            "mean      0.27461          46.937860\n",
            "std       0.49922          30.897437\n",
            "min       0.00000           2.000000\n",
            "25%       0.00000          22.000000\n",
            "50%       0.00000          39.000000\n",
            "75%       0.00000          67.000000\n",
            "max       2.00000         127.000000\n",
            "            label  comment_clean_len\n",
            "count  685.000000         685.000000\n",
            "mean     0.259854          46.200000\n",
            "std      0.506891          30.202329\n",
            "min      0.000000           3.000000\n",
            "25%      0.000000          21.000000\n",
            "50%      0.000000          40.000000\n",
            "75%      0.000000          67.000000\n",
            "max      2.000000         126.000000\n"
          ]
        }
      ],
      "source": [
        "SENTIMENT_DATA = '../data/for_sentiment'\n",
        "\n",
        "!mkdir SENTIMENT_DATA\n",
        "\n",
        "for dataset in datasets:\n",
        "  name = dataset['name']\n",
        "  print(dataset['df'].describe())\n",
        "  dataset['df'].to_csv(\n",
        "      f'{SENTIMENT_DATA}/{name}.gz',\n",
        "       compression = 'gzip')"
      ]
    },
    {
      "cell_type": "code",
      "execution_count": 21,
      "metadata": {
        "id": "hfZpcPq8P43n"
      },
      "outputs": [],
      "source": [
        "# collecting data for topic segmentation"
      ]
    },
    {
      "cell_type": "code",
      "execution_count": 76,
      "metadata": {},
      "outputs": [],
      "source": [
        "TOPIC_DATA = '../data/for_topic'"
      ]
    },
    {
      "cell_type": "code",
      "execution_count": 22,
      "metadata": {},
      "outputs": [
        {
          "name": "stdout",
          "output_type": "stream",
          "text": [
            "fatal: destination path 'HebrewStopWords' already exists and is not an empty directory.\n"
          ]
        }
      ],
      "source": [
        "!git clone https://github.com/gidim/HebrewStopWords.git"
      ]
    },
    {
      "cell_type": "code",
      "execution_count": 23,
      "metadata": {},
      "outputs": [],
      "source": [
        "stop_words = open('./HebrewStopWords/heb_stopwords.txt').read().splitlines()"
      ]
    },
    {
      "cell_type": "code",
      "execution_count": 85,
      "metadata": {},
      "outputs": [],
      "source": [
        "def preprocess_for_topic(\n",
        "    df,\n",
        "    text_col='comment_clean',\n",
        "    topic_col='topic',\n",
        "    stop_words=stop_words,\n",
        "    nof_most_common=10,\n",
        "    max_freq=400,\n",
        "    max_topic_len=256):\n",
        "\n",
        "    df = df.copy()\n",
        "\n",
        "    df[topic_col] = df[text_col].map(lambda x: remove_words(x, stop_words))\n",
        "    word_freq = FreqDist(sum(df[topic_col].map(word_tokenize), [])).most_common(nof_most_common)\n",
        "    words_to_extract = [word[0] for word in word_freq if word[1] > max_freq]  # 'words that repeats themselves over 500 times\n",
        "    df[topic_col] = df[topic_col].map(lambda x: remove_words(x, words_to_extract))\n",
        "    df['topic_len'] = df[topic_col].str.len()\n",
        "    df = df[df['topic_len'] > 0]\n",
        "    df = df[df['topic_len'] < max_topic_len]\n",
        "    return df"
      ]
    },
    {
      "cell_type": "code",
      "execution_count": 86,
      "metadata": {},
      "outputs": [],
      "source": [
        "all_tokens_df = pd.concat([train_token_df, val_token_df]).reset_index()\n",
        "all_tokens_df = preprocess_for_topic(all_tokens_df)\n",
        "all_tokens_df.to_csv(f'{TOPIC_DATA}/all_tokens_df.gz', compression='gzip')"
      ]
    },
    {
      "cell_type": "code",
      "execution_count": 87,
      "metadata": {},
      "outputs": [
        {
          "data": {
            "text/html": [
              "<div>\n",
              "<style scoped>\n",
              "    .dataframe tbody tr th:only-of-type {\n",
              "        vertical-align: middle;\n",
              "    }\n",
              "\n",
              "    .dataframe tbody tr th {\n",
              "        vertical-align: top;\n",
              "    }\n",
              "\n",
              "    .dataframe thead th {\n",
              "        text-align: right;\n",
              "    }\n",
              "</style>\n",
              "<table border=\"1\" class=\"dataframe\">\n",
              "  <thead>\n",
              "    <tr style=\"text-align: right;\">\n",
              "      <th></th>\n",
              "      <th>index</th>\n",
              "      <th>label</th>\n",
              "      <th>comment_clean_len</th>\n",
              "      <th>topic_len</th>\n",
              "    </tr>\n",
              "  </thead>\n",
              "  <tbody>\n",
              "    <tr>\n",
              "      <th>count</th>\n",
              "      <td>6259.000000</td>\n",
              "      <td>6259.000000</td>\n",
              "      <td>6259.000000</td>\n",
              "      <td>6259.000000</td>\n",
              "    </tr>\n",
              "    <tr>\n",
              "      <th>mean</th>\n",
              "      <td>2643.026042</td>\n",
              "      <td>0.332641</td>\n",
              "      <td>78.599297</td>\n",
              "      <td>49.806998</td>\n",
              "    </tr>\n",
              "    <tr>\n",
              "      <th>std</th>\n",
              "      <td>1808.555062</td>\n",
              "      <td>0.526000</td>\n",
              "      <td>73.116268</td>\n",
              "      <td>49.799420</td>\n",
              "    </tr>\n",
              "    <tr>\n",
              "      <th>min</th>\n",
              "      <td>0.000000</td>\n",
              "      <td>0.000000</td>\n",
              "      <td>3.000000</td>\n",
              "      <td>2.000000</td>\n",
              "    </tr>\n",
              "    <tr>\n",
              "      <th>25%</th>\n",
              "      <td>848.500000</td>\n",
              "      <td>0.000000</td>\n",
              "      <td>28.000000</td>\n",
              "      <td>15.000000</td>\n",
              "    </tr>\n",
              "    <tr>\n",
              "      <th>50%</th>\n",
              "      <td>2542.000000</td>\n",
              "      <td>0.000000</td>\n",
              "      <td>53.000000</td>\n",
              "      <td>32.000000</td>\n",
              "    </tr>\n",
              "    <tr>\n",
              "      <th>75%</th>\n",
              "      <td>4218.500000</td>\n",
              "      <td>1.000000</td>\n",
              "      <td>103.000000</td>\n",
              "      <td>66.000000</td>\n",
              "    </tr>\n",
              "    <tr>\n",
              "      <th>max</th>\n",
              "      <td>5925.000000</td>\n",
              "      <td>2.000000</td>\n",
              "      <td>493.000000</td>\n",
              "      <td>255.000000</td>\n",
              "    </tr>\n",
              "  </tbody>\n",
              "</table>\n",
              "</div>"
            ],
            "text/plain": [
              "             index        label  comment_clean_len    topic_len\n",
              "count  6259.000000  6259.000000        6259.000000  6259.000000\n",
              "mean   2643.026042     0.332641          78.599297    49.806998\n",
              "std    1808.555062     0.526000          73.116268    49.799420\n",
              "min       0.000000     0.000000           3.000000     2.000000\n",
              "25%     848.500000     0.000000          28.000000    15.000000\n",
              "50%    2542.000000     0.000000          53.000000    32.000000\n",
              "75%    4218.500000     1.000000         103.000000    66.000000\n",
              "max    5925.000000     2.000000         493.000000   255.000000"
            ]
          },
          "execution_count": 87,
          "metadata": {},
          "output_type": "execute_result"
        }
      ],
      "source": [
        "all_tokens_df.describe()"
      ]
    },
    {
      "cell_type": "code",
      "execution_count": 88,
      "metadata": {},
      "outputs": [],
      "source": [
        "all_morphs_df = pd.concat([train_morph_df, val_morph_df]).reset_index()\n",
        "all_morphs_df = preprocess_for_topic(all_morphs_df)\n",
        "all_morphs_df.to_csv(f'{TOPIC_DATA}/all_morphs_df.gz', compression='gzip')"
      ]
    },
    {
      "cell_type": "code",
      "execution_count": 89,
      "metadata": {},
      "outputs": [
        {
          "data": {
            "text/html": [
              "<div>\n",
              "<style scoped>\n",
              "    .dataframe tbody tr th:only-of-type {\n",
              "        vertical-align: middle;\n",
              "    }\n",
              "\n",
              "    .dataframe tbody tr th {\n",
              "        vertical-align: top;\n",
              "    }\n",
              "\n",
              "    .dataframe thead th {\n",
              "        text-align: right;\n",
              "    }\n",
              "</style>\n",
              "<table border=\"1\" class=\"dataframe\">\n",
              "  <thead>\n",
              "    <tr style=\"text-align: right;\">\n",
              "      <th></th>\n",
              "      <th>index</th>\n",
              "      <th>label</th>\n",
              "      <th>comment_clean_len</th>\n",
              "      <th>topic_len</th>\n",
              "    </tr>\n",
              "  </thead>\n",
              "  <tbody>\n",
              "    <tr>\n",
              "      <th>count</th>\n",
              "      <td>6276.000000</td>\n",
              "      <td>6276.000000</td>\n",
              "      <td>6276.000000</td>\n",
              "      <td>6276.000000</td>\n",
              "    </tr>\n",
              "    <tr>\n",
              "      <th>mean</th>\n",
              "      <td>2645.767208</td>\n",
              "      <td>0.340185</td>\n",
              "      <td>79.792543</td>\n",
              "      <td>44.410612</td>\n",
              "    </tr>\n",
              "    <tr>\n",
              "      <th>std</th>\n",
              "      <td>1809.434315</td>\n",
              "      <td>0.528202</td>\n",
              "      <td>78.137796</td>\n",
              "      <td>47.165456</td>\n",
              "    </tr>\n",
              "    <tr>\n",
              "      <th>min</th>\n",
              "      <td>0.000000</td>\n",
              "      <td>0.000000</td>\n",
              "      <td>3.000000</td>\n",
              "      <td>2.000000</td>\n",
              "    </tr>\n",
              "    <tr>\n",
              "      <th>25%</th>\n",
              "      <td>847.750000</td>\n",
              "      <td>0.000000</td>\n",
              "      <td>27.000000</td>\n",
              "      <td>12.750000</td>\n",
              "    </tr>\n",
              "    <tr>\n",
              "      <th>50%</th>\n",
              "      <td>2551.500000</td>\n",
              "      <td>0.000000</td>\n",
              "      <td>52.000000</td>\n",
              "      <td>27.000000</td>\n",
              "    </tr>\n",
              "    <tr>\n",
              "      <th>75%</th>\n",
              "      <td>4220.250000</td>\n",
              "      <td>1.000000</td>\n",
              "      <td>102.250000</td>\n",
              "      <td>57.000000</td>\n",
              "    </tr>\n",
              "    <tr>\n",
              "      <th>max</th>\n",
              "      <td>5931.000000</td>\n",
              "      <td>2.000000</td>\n",
              "      <td>559.000000</td>\n",
              "      <td>255.000000</td>\n",
              "    </tr>\n",
              "  </tbody>\n",
              "</table>\n",
              "</div>"
            ],
            "text/plain": [
              "             index        label  comment_clean_len    topic_len\n",
              "count  6276.000000  6276.000000        6276.000000  6276.000000\n",
              "mean   2645.767208     0.340185          79.792543    44.410612\n",
              "std    1809.434315     0.528202          78.137796    47.165456\n",
              "min       0.000000     0.000000           3.000000     2.000000\n",
              "25%     847.750000     0.000000          27.000000    12.750000\n",
              "50%    2551.500000     0.000000          52.000000    27.000000\n",
              "75%    4220.250000     1.000000         102.250000    57.000000\n",
              "max    5931.000000     2.000000         559.000000   255.000000"
            ]
          },
          "execution_count": 89,
          "metadata": {},
          "output_type": "execute_result"
        }
      ],
      "source": [
        "all_morphs_df.describe()"
      ]
    },
    {
      "cell_type": "code",
      "execution_count": null,
      "metadata": {},
      "outputs": [],
      "source": []
    }
  ],
  "metadata": {
    "colab": {
      "collapsed_sections": [],
      "name": "onlp_data_preprocess.ipynb",
      "provenance": []
    },
    "kernelspec": {
      "display_name": "Python 3",
      "name": "python3"
    },
    "language_info": {
      "codemirror_mode": {
        "name": "ipython",
        "version": 3
      },
      "file_extension": ".py",
      "mimetype": "text/x-python",
      "name": "python",
      "nbconvert_exporter": "python",
      "pygments_lexer": "ipython3",
      "version": "3.8.10"
    }
  },
  "nbformat": 4,
  "nbformat_minor": 0
}
