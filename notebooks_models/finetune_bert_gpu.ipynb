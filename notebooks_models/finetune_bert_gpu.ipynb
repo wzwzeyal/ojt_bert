{
  "cells": [
    {
      "cell_type": "code",
      "execution_count": 4,
      "metadata": {
        "colab": {
          "base_uri": "https://localhost:8080/"
        },
        "id": "BotaOAs1k3up",
        "outputId": "d63dc3c0-73b0-4f43-f825-56d14db2a401"
      },
      "outputs": [],
      "source": [
        "if 'google.colab' in str(get_ipython()):\n",
        "  ! git clone https://github.com/wzwzeyal/ojt_bert.git\n",
        "  ! pip install transformers\n",
        "  SENTIMENT_DATA_PATH = './ojt_bert/data/for_sentiment'\n",
        "else:\n",
        "  SENTIMENT_DATA_PATH = '../data/for_sentiment'\n"
      ]
    },
    {
      "cell_type": "code",
      "execution_count": 5,
      "metadata": {
        "id": "iQiT6Euak3uu"
      },
      "outputs": [],
      "source": [
        "import pandas as pd\n",
        "import numpy as np\n",
        "import torch\n",
        "import transformers\n",
        "from transformers import AdamW, get_linear_schedule_with_warmup\n",
        "from torch.utils.data import TensorDataset, DataLoader, RandomSampler, SequentialSampler\n",
        "import time\n"
      ]
    },
    {
      "cell_type": "code",
      "execution_count": 6,
      "metadata": {},
      "outputs": [
        {
          "name": "stdout",
          "output_type": "stream",
          "text": [
            "fatal: destination path 'bert_classifier_repo' already exists and is not an empty directory.\n"
          ]
        }
      ],
      "source": [
        "!rm -rf ../bert_classifier_repo\n",
        "!git clone https://github.com/wzwzeyal/bert_classifier_repo.git"
      ]
    },
    {
      "cell_type": "code",
      "execution_count": null,
      "metadata": {},
      "outputs": [],
      "source": [
        "from bert_classifier_repo.module_trainer import bert_classifier_trainer"
      ]
    },
    {
      "cell_type": "code",
      "execution_count": 7,
      "metadata": {
        "id": "U9z591NWk3u1"
      },
      "outputs": [],
      "source": [
        "train_morph_df = pd.read_csv(f'{SENTIMENT_DATA_PATH}/train_morph_df.gz')\n",
        "train_token_df = pd.read_csv(f'{SENTIMENT_DATA_PATH}/train_token_df.gz')\n",
        "val_morph_df = pd.read_csv(f'{SENTIMENT_DATA_PATH}/val_morph_df.gz')\n",
        "val_token_df = pd.read_csv(f'{SENTIMENT_DATA_PATH}/val_token_df.gz')"
      ]
    },
    {
      "cell_type": "code",
      "execution_count": 8,
      "metadata": {
        "id": "KovFj_BKlNDn"
      },
      "outputs": [],
      "source": [
        "MAX_LEN=130\n",
        "batch_size=32\n",
        "bert_model_name = 'avichr/heBERT_sentiment_analysis'"
      ]
    },
    {
      "cell_type": "code",
      "execution_count": 9,
      "metadata": {
        "id": "y00N0-g2k3u2"
      },
      "outputs": [],
      "source": [
        "X_train = train_token_df.comment_clean.values\n",
        "y_train = train_token_df.label\n",
        "\n",
        "X_val = val_token_df.comment_clean.values\n",
        "y_val = val_token_df.label"
      ]
    },
    {
      "cell_type": "code",
      "execution_count": 10,
      "metadata": {
        "id": "XBqltY3Zk3u4"
      },
      "outputs": [
        {
          "name": "stderr",
          "output_type": "stream",
          "text": [
            "Some weights of the model checkpoint at avichr/heBERT_sentiment_analysis were not used when initializing BertModel: ['classifier.weight', 'classifier.bias']\n",
            "- This IS expected if you are initializing BertModel from the checkpoint of a model trained on another task or with another architecture (e.g. initializing a BertForSequenceClassification model from a BertForPreTraining model).\n",
            "- This IS NOT expected if you are initializing BertModel from the checkpoint of a model that you expect to be exactly identical (initializing a BertForSequenceClassification model from a BertForSequenceClassification model).\n"
          ]
        },
        {
          "name": "stdout",
          "output_type": "stream",
          "text": [
            "Start training...\n",
            "\n",
            " Epoch  |  Batch  |  Train Loss  |  Val Loss  |  Val Acc  |  Elapsed \n",
            "----------------------------------------------------------------------\n"
          ]
        }
      ],
      "source": [
        "best_model_name = 'token'\n",
        "\n",
        "bert_classifier = bert_classifier_trainer(MAX_LEN, batch_size, bert_model_name, best_model_name=best_model_name)\n",
        "bert_classifier.initialize_train_data(X_train, y_train)\n",
        "bert_classifier.initialize_val_data(X_val, y_val)\n",
        "bert_classifier.train(epochs=20, evaluation=True)"
      ]
    },
    {
      "cell_type": "code",
      "execution_count": 1,
      "metadata": {
        "id": "87S9PDlBk3u-"
      },
      "outputs": [],
      "source": [
        "if 'google.colab' in str(get_ipython()):\n",
        "    from google.colab import files\n",
        "\n",
        "    files.download(best_model_name)"
      ]
    },
    {
      "cell_type": "code",
      "execution_count": null,
      "metadata": {},
      "outputs": [],
      "source": [
        "X_train = train_token_df.comment_clean.values\n",
        "y_train = train_token_df.label\n",
        "\n",
        "X_val = val_token_df.comment_clean.values\n",
        "y_val = val_token_df.label"
      ]
    },
    {
      "cell_type": "code",
      "execution_count": null,
      "metadata": {},
      "outputs": [],
      "source": [
        "best_model_name = 'morph'\n",
        "\n",
        "bert_classifier = bert_classifier_trainer(MAX_LEN, batch_size, bert_model_name, best_model_name=best_model_name)\n",
        "bert_classifier.initialize_train_data(X_train, y_train)\n",
        "bert_classifier.initialize_val_data(X_val, y_val)\n",
        "bert_classifier.train(epochs=20, evaluation=True)"
      ]
    },
    {
      "cell_type": "code",
      "execution_count": null,
      "metadata": {},
      "outputs": [],
      "source": []
    },
    {
      "cell_type": "code",
      "execution_count": null,
      "metadata": {},
      "outputs": [],
      "source": []
    },
    {
      "cell_type": "code",
      "execution_count": null,
      "metadata": {},
      "outputs": [],
      "source": []
    },
    {
      "cell_type": "code",
      "execution_count": null,
      "metadata": {},
      "outputs": [],
      "source": [
        "# https://app.monkeylearn.com/studio/workflows/wf_b3PibnZR/tab/analytics/"
      ]
    }
  ],
  "metadata": {
    "accelerator": "GPU",
    "colab": {
      "name": "finetune_bert_gpu.ipynb",
      "provenance": []
    },
    "interpreter": {
      "hash": "d4a6d3944a949846f4664787b256241dcb769797b6827641bf384da575c62243"
    },
    "kernelspec": {
      "display_name": "Python 3.8.10 64-bit ('.venv': venv)",
      "language": "python",
      "name": "python3"
    },
    "language_info": {
      "codemirror_mode": {
        "name": "ipython",
        "version": 3
      },
      "file_extension": ".py",
      "mimetype": "text/x-python",
      "name": "python",
      "nbconvert_exporter": "python",
      "pygments_lexer": "ipython3",
      "version": "3.8.10"
    },
    "orig_nbformat": 4
  },
  "nbformat": 4,
  "nbformat_minor": 0
}
